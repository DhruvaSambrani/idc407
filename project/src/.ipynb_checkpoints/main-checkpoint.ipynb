{
 "cells": [
  {
   "cell_type": "code",
   "execution_count": 106,
   "id": "f6bfe4ea",
   "metadata": {},
   "outputs": [],
   "source": [
    "import networkx as nx\n",
    "import matplotlib\n",
    "import numpy as np\n",
    "import scipy as sc\n",
    "import ndlib.models.epidemics as ep\n",
    "import ndlib.models.ModelConfig as mc\n",
    "from bokeh.io import output_notebook, show\n",
    "from ndlib.viz.bokeh.DiffusionTrend import DiffusionTrend"
   ]
  },
  {
   "cell_type": "code",
   "execution_count": 51,
   "id": "ba91acac",
   "metadata": {},
   "outputs": [],
   "source": [
    "g = nx.read_graphml(\".././asnr/Networks/Aves/songbird_association_weighted/songbird_adelman_attribute.graphml\")"
   ]
  },
  {
   "cell_type": "code",
   "execution_count": 182,
   "id": "ac8f02d3",
   "metadata": {},
   "outputs": [],
   "source": [
    "def average_degree(g):\n",
    "    return np.average([v for k, v in g.degree()])\n",
    "\n",
    "def connectance(g):\n",
    "    m = len(g.edges())\n",
    "    n = len(g.nodes())\n",
    "    return 2*m/(n*(n-1))\n",
    "\n",
    "def assortativity(g):\n",
    "    return nx.degree_assortativity_coefficient(g)\n",
    "\n",
    "def bw_centrality(g):\n",
    "    j = nx.betweenness_centrality(g)\n",
    "    return np.average([j[k] for k in j])\n",
    "\n",
    "def eig_centrality(g):\n",
    "    j = nx.eigenvector_centrality(g)\n",
    "    return np.average([j[k] for k in j])\n",
    "\n",
    "def clustering(g):\n",
    "    return nx.average_clustering(g)\n",
    "\n",
    "def mean_pl(g):\n",
    "    largest=g.subgraph(max(nx.connected_components(g), key=len)).copy()\n",
    "    return nx.average_shortest_path_length(largest)\n",
    "\n",
    "def num_node(g):\n",
    "    return len(g.nodes())\n",
    "\n",
    "def num_edge(g):\n",
    "    return len(g.edges())"
   ]
  },
  {
   "cell_type": "code",
   "execution_count": 188,
   "id": "ab16d90a",
   "metadata": {},
   "outputs": [],
   "source": [
    "props = [num_node, num_edge, average_degree, connectance, assortativity, bw_centrality, eig_centrality, clustering, mean_pl]\n",
    "models = [si, sir, sis, seis, seir]"
   ]
  },
  {
   "cell_type": "code",
   "execution_count": 183,
   "id": "a47a67ee",
   "metadata": {},
   "outputs": [],
   "source": [
    "def get_properties(g):\n",
    "    props = {}\n",
    "    for prop in :\n",
    "        props[prop.__name__] = prop(g)\n",
    "    return props"
   ]
  },
  {
   "cell_type": "code",
   "execution_count": 184,
   "id": "99eead98",
   "metadata": {},
   "outputs": [
    {
     "data": {
      "text/plain": [
       "{'num_node': 117,\n",
       " 'num_edge': 1027,\n",
       " 'average_degree': 17.555555555555557,\n",
       " 'connectance': 0.15134099616858238,\n",
       " 'assortativity': 0.0002656825756842392,\n",
       " 'bw_centrality': 0.009286382449800743,\n",
       " 'eig_centrality': 0.06675794627539204,\n",
       " 'clustering': 0.6044419633566844,\n",
       " 'mean_pl': 2.2542402215299413}"
      ]
     },
     "execution_count": 184,
     "metadata": {},
     "output_type": "execute_result"
    }
   ],
   "source": [
    "get_properties(g)"
   ]
  },
  {
   "cell_type": "code",
   "execution_count": 185,
   "id": "81d9f7a6",
   "metadata": {},
   "outputs": [],
   "source": [
    "def sir(g):\n",
    "    model = ep.SIRModel(g)\n",
    "    config = mc.Configuration()\n",
    "    config.add_model_parameter('beta', 0.01)\n",
    "    config.add_model_parameter('gamma', 0.005)\n",
    "    config.add_model_parameter(\"fraction_infected\", 0.05)\n",
    "    model.set_initial_status(config)\n",
    "    iterations = model.iteration_bunch(5000)\n",
    "    trends = model.build_trends(iterations)\n",
    "    return np.sum(trends[0]['trends']['node_count'][1])/len(g.nodes())\n",
    "\n",
    "def si(g):\n",
    "    model = ep.SIModel(g)\n",
    "    config = mc.Configuration()\n",
    "    config.add_model_parameter('beta', 0.01)\n",
    "    config.add_model_parameter(\"fraction_infected\", 0.05)\n",
    "    model.set_initial_status(config)\n",
    "    iterations = model.iteration_bunch(5000)\n",
    "    trends = model.build_trends(iterations)\n",
    "    return np.sum(trends[0]['trends']['node_count'][1])/len(g.nodes())\n",
    "\n",
    "def sis(g):\n",
    "    model = ep.SISModel(g)\n",
    "    config = mc.Configuration()\n",
    "    config.add_model_parameter('beta', 0.01)\n",
    "    config.add_model_parameter('lambda', 0.005)\n",
    "    config.add_model_parameter(\"fraction_infected\", 0.05)\n",
    "    model.set_initial_status(config)\n",
    "    iterations = model.iteration_bunch(5000)\n",
    "    trends = model.build_trends(iterations)\n",
    "    return np.sum(trends[0]['trends']['node_count'][1])/len(g.nodes())\n",
    "\n",
    "def seir(g):\n",
    "    model = ep.SEIRModel(g)\n",
    "    config = mc.Configuration()\n",
    "    config.add_model_parameter('beta', 0.01)\n",
    "    config.add_model_parameter('gamma', 0.005)\n",
    "    config.add_model_parameter('alpha', 0.05)\n",
    "    config.add_model_parameter(\"fraction_infected\", 0.05)\n",
    "    model.set_initial_status(config)\n",
    "    iterations = model.iteration_bunch(5000)\n",
    "    trends = model.build_trends(iterations)\n",
    "    return np.sum(trends[0]['trends']['node_count'][1])/len(g.nodes())\n",
    "\n",
    "def seis(g):\n",
    "    model = ep.SEISModel(g)\n",
    "    config = mc.Configuration()\n",
    "    config.add_model_parameter('beta', 0.01)\n",
    "    config.add_model_parameter('lambda', 0.005)\n",
    "    config.add_model_parameter('alpha', 0.05)\n",
    "    config.add_model_parameter(\"fraction_infected\", 0.05)\n",
    "    model.set_initial_status(config)\n",
    "    iterations = model.iteration_bunch(5000)\n",
    "    trends = model.build_trends(iterations)\n",
    "    return np.sum(trends[0]['trends']['node_count'][1])/len(g.nodes())\n",
    "\n",
    "def run_sims(g):\n",
    "    sims = {}\n",
    "    for sim_type in [si, sir, sis, seis, seir]:\n",
    "        print(\"running \"+sim_type.__name__)\n",
    "        sims[sim_type.__name__] = sim_type(g)\n",
    "    return sims"
   ]
  },
  {
   "cell_type": "code",
   "execution_count": 186,
   "id": "8c5897f8",
   "metadata": {},
   "outputs": [],
   "source": [
    "def run_everything(g):\n",
    "    props = get_properties(g)\n",
    "    sim_vals = run_sims(g)\n",
    "    return props, sim_vals"
   ]
  },
  {
   "cell_type": "code",
   "execution_count": 187,
   "id": "42c9dc87",
   "metadata": {},
   "outputs": [
    {
     "ename": "SyntaxError",
     "evalue": "invalid syntax (4095364712.py, line 4)",
     "output_type": "error",
     "traceback": [
      "\u001b[0;36m  Input \u001b[0;32mIn [187]\u001b[0;36m\u001b[0m\n\u001b[0;31m    for model in []\u001b[0m\n\u001b[0m                   ^\u001b[0m\n\u001b[0;31mSyntaxError\u001b[0m\u001b[0;31m:\u001b[0m invalid syntax\n"
     ]
    }
   ],
   "source": [
    "def make_correlation_plots(all_graphs):\n",
    "    data = [run_everything(graph) for graph in all_graphs]\n",
    "    \n",
    "    for i, prop in enumerate(props):\n",
    "        for j, model in enumerate(models):\n",
    "            "
   ]
  },
  {
   "cell_type": "code",
   "execution_count": 173,
   "id": "06213e69",
   "metadata": {},
   "outputs": [
    {
     "name": "stdout",
     "output_type": "stream",
     "text": [
      "running si\n",
      "running sir\n",
      "running sis\n",
      "running seis\n",
      "running seir\n"
     ]
    },
    {
     "data": {
      "text/plain": [
       "({'average_degree': 17.555555555555557,\n",
       "  'connectance': 0.15134099616858238,\n",
       "  'assortativity': 0.0002656825756842392,\n",
       "  'bw_centrality': 0.009286382449800743,\n",
       "  'eig_centrality': 0.06675794627539204,\n",
       "  'clustering': 0.6044419633566844,\n",
       "  'mean_pl': 2.2542402215299413},\n",
       " {'si': 4593.572649572649,\n",
       "  'sir': 172.24786324786325,\n",
       "  'sis': 4316.025641025641,\n",
       "  'seis': 3855.5641025641025,\n",
       "  'seir': 178.02564102564102})"
      ]
     },
     "execution_count": 173,
     "metadata": {},
     "output_type": "execute_result"
    }
   ],
   "source": [
    "run_everything(g)"
   ]
  },
  {
   "cell_type": "code",
   "execution_count": null,
   "id": "2456b9d6",
   "metadata": {},
   "outputs": [],
   "source": []
  }
 ],
 "metadata": {
  "kernelspec": {
   "display_name": "Python 3 (ipykernel)",
   "language": "python",
   "name": "python3"
  },
  "language_info": {
   "codemirror_mode": {
    "name": "ipython",
    "version": 3
   },
   "file_extension": ".py",
   "mimetype": "text/x-python",
   "name": "python",
   "nbconvert_exporter": "python",
   "pygments_lexer": "ipython3",
   "version": "3.9.12"
  }
 },
 "nbformat": 4,
 "nbformat_minor": 5
}
